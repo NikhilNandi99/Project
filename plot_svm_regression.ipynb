{
 "cells": [
  {
   "cell_type": "markdown",
   "metadata": {},
   "source": [
    "\n",
    "===================================================================\n",
    "Support Vector Regression (SVR) using linear and non-linear kernels\n",
    "===================================================================\n",
    "\n",
    "Toy example of 1D regression using linear, polynomial and RBF kernels.\n"
   ]
  },
  {
   "cell_type": "code",
   "execution_count": 1,
   "metadata": {},
   "outputs": [
    {
     "name": "stdout",
     "output_type": "stream",
     "text": [
      "Automatically created module for IPython interactive environment\n"
     ]
    }
   ],
   "source": [
    "print(__doc__)\n",
    "\n",
    "import numpy as np\n",
    "from sklearn.svm import SVR\n",
    "import matplotlib.pyplot as plt"
   ]
  },
  {
   "cell_type": "code",
   "execution_count": 2,
   "metadata": {},
   "outputs": [],
   "source": [
    "def SVReg(X,y):\n",
    "\n",
    "    # #############################################################################\n",
    "    # Add noise to targets\n",
    "    y[::5] += 3 * (0.5 - np.random.rand(339))\n",
    "\n",
    "    # #############################################################################\n",
    "    # Fit regression model\n",
    "    svr_rbf = SVR(kernel='rbf', C=100, gamma=0.1, epsilon=.1)\n",
    "    svr_lin = SVR(kernel='linear', C=100, gamma='auto')\n",
    "    svr_poly = SVR(kernel='poly', C=100, gamma='auto', degree=3, epsilon=.1,\n",
    "                   coef0=1)\n",
    "\n",
    "    # #############################################################################\n",
    "    # Look at the results\n",
    "    lw = 2\n",
    "\n",
    "    svrs = [svr_rbf, svr_lin, svr_poly]\n",
    "    kernel_label = ['RBF', 'Linear', 'Polynomial']\n",
    "    model_color = ['m', 'c', 'g']\n",
    "\n",
    "    fig, axes = plt.subplots(nrows=1, ncols=3, figsize=(15, 10), sharey=True)\n",
    "    for ix, svr in enumerate(svrs):\n",
    "        axes[ix].plot(X, svr.fit(X, y).predict(X), color=model_color[ix], lw=lw,\n",
    "                      label='{} model'.format(kernel_label[ix]))\n",
    "        axes[ix].scatter(X[svr.support_], y[svr.support_], facecolor=\"none\",\n",
    "                         edgecolor=model_color[ix], s=50,\n",
    "                         label='{} support vectors'.format(kernel_label[ix]))\n",
    "        axes[ix].scatter(X[np.setdiff1d(np.arange(len(X)), svr.support_)],\n",
    "                         y[np.setdiff1d(np.arange(len(X)), svr.support_)],\n",
    "                         facecolor=\"none\", edgecolor=\"k\", s=50,\n",
    "                         label='other training data')\n",
    "        axes[ix].legend(loc='upper center', bbox_to_anchor=(0.5, 1.1),\n",
    "                        ncol=1, fancybox=True, shadow=True)\n",
    "\n",
    "    fig.text(0.5, 0.04, 'data', ha='center', va='center')\n",
    "    fig.text(0.06, 0.5, 'target', ha='center', va='center', rotation='vertical')\n",
    "    fig.suptitle(\"Support Vector Regression\", fontsize=14)\n",
    "    plt.show()\n",
    "            "
   ]
  },
  {
   "cell_type": "code",
   "execution_count": null,
   "metadata": {},
   "outputs": [],
   "source": [
    "# #############################################################################\n",
    "# Generate sample data\n",
    "'''X = np.sort(5 * np.random.rand(40, 1), axis=0)\n",
    "y = np.sin(X).ravel()'''\n",
    "\n",
    "import csv\n",
    "\n",
    "# Read data from file:\n",
    "\n",
    "l = 1695\n",
    "X = [[i+1 for i in range(0,l)]]\n",
    "\n",
    "for i in range(0,5):\n",
    "\n",
    "    y = []\n",
    "    with open(\"Final Intrinsic Mode Functions.csv\",\"r\") as f:\n",
    "        reader = csv.reader(f)\n",
    "        for row in reader:\n",
    "            y.append(float(row[0]))\n",
    "    f.close()\n",
    "    \n",
    "    X1 = np.array(X)\n",
    "    y1 = np.array(y)\n",
    "    \n",
    "    X1 = np.transpose(X1)\n",
    "    \n",
    "    #print(X1)\n",
    "    #print(y1)\n",
    "    \n",
    "    SVReg(X1,y1)\n",
    "\n"
   ]
  },
  {
   "cell_type": "code",
   "execution_count": null,
   "metadata": {},
   "outputs": [],
   "source": []
  }
 ],
 "metadata": {
  "kernelspec": {
   "display_name": "Python 3",
   "language": "python",
   "name": "python3"
  },
  "language_info": {
   "codemirror_mode": {
    "name": "ipython",
    "version": 3
   },
   "file_extension": ".py",
   "mimetype": "text/x-python",
   "name": "python",
   "nbconvert_exporter": "python",
   "pygments_lexer": "ipython3",
   "version": "3.8.3"
  }
 },
 "nbformat": 4,
 "nbformat_minor": 1
}
